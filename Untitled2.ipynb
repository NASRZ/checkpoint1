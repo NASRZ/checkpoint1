{
 "cells": [
  {
   "cell_type": "code",
   "execution_count": 1,
   "id": "07a04b37",
   "metadata": {},
   "outputs": [
    {
     "name": "stdout",
     "output_type": "stream",
     "text": [
      "KOUSAY\n",
      "NASRALLAH\n",
      "NASRALLAH KOUSAY\n"
     ]
    }
   ],
   "source": [
    "a=input()\n",
    "b=input()\n",
    "print(b,a)"
   ]
  },
  {
   "cell_type": "code",
   "execution_count": null,
   "id": "1a2a884a",
   "metadata": {},
   "outputs": [],
   "source": [
    "a = int(input(\"Input an integer : \"))\n",
    "n1 = int( \"%s\" % a )\n",
    "n2 = int( \"%s%s\" % (a,a) )\n",
    "n3 = int( \"%s%s%s\" % (a,a,a) )\n",
    "print (n1+n2+n3)"
   ]
  },
  {
   "cell_type": "code",
   "execution_count": 10,
   "id": "344c54c7",
   "metadata": {},
   "outputs": [
    {
     "name": "stdout",
     "output_type": "stream",
     "text": [
      "12\n",
      "paire\n"
     ]
    }
   ],
   "source": [
    "x=int(input(\"\"))\n",
    "if x % 2==0:\n",
    "    print(\"paire\")\n",
    "else :\n",
    "    print (\"impaire\")"
   ]
  },
  {
   "cell_type": "code",
   "execution_count": 9,
   "id": "b24be8b7",
   "metadata": {},
   "outputs": [
    {
     "name": "stdout",
     "output_type": "stream",
     "text": [
      "2002 2009 2016 2023 2037 2044 2051 2058 2072 2079 2086 2093 2107 2114 2121 2128 2142 2149 2156 2163 2177 2184 2191 2198 2212 2219 2226 2233 2247 2254 2261 2268 2282 2289 2296 2303 2317 2324 2331 2338 2352 2359 2366 2373 2387 2394 2401 2408 2422 2429 2436 2443 2457 2464 2471 2478 2492 2499 2506 2513 2527 2534 2541 2548 2562 2569 2576 2583 2597 2604 2611 2618 2632 2639 2646 2653 2667 2674 2681 2688 2702 2709 2716 2723 2737 2744 2751 2758 2772 2779 2786 2793 2807 2814 2821 2828 2842 2849 2856 2863 2877 2884 2891 2898 2912 2919 2926 2933 2947 2954 2961 2968 2982 2989 2996 3003 3017 3024 3031 3038 3052 3059 3066 3073 3087 3094 3101 3108 3122 3129 3136 3143 3157 3164 3171 3178 3192 3199 "
     ]
    }
   ],
   "source": [
    "for i in range(2000,3200):\n",
    "    if i % 7 == 0 and i  % 5 != 0:\n",
    "        print (i, end = \" \")\n",
    "    \n",
    "\n"
   ]
  },
  {
   "cell_type": "code",
   "execution_count": 10,
   "id": "916803d1",
   "metadata": {
    "scrolled": true
   },
   "outputs": [
    {
     "name": "stdout",
     "output_type": "stream",
     "text": [
      "8\n",
      "40320\n"
     ]
    }
   ],
   "source": [
    "bb = int(input())\n",
    "multi=1\n",
    "for i in range (2,bb+1):\n",
    "    multi=multi*i\n",
    "print(multi)\n",
    "\n",
    "\n",
    "    \n",
    "    "
   ]
  },
  {
   "cell_type": "code",
   "execution_count": 30,
   "id": "04eb8b9a",
   "metadata": {},
   "outputs": [
    {
     "name": "stdout",
     "output_type": "stream",
     "text": [
      "azer\n",
      "ae\n"
     ]
    }
   ],
   "source": [
    "x=input(\"\")\n",
    "result =\"\"\n",
    "for i in range (len(x)):\n",
    "    if i % 2==0:\n",
    "        result = result + x[i]\n",
    "        \n",
    "print (result)"
   ]
  },
  {
   "cell_type": "code",
   "execution_count": 36,
   "id": "2edc711b",
   "metadata": {},
   "outputs": [
    {
     "name": "stdout",
     "output_type": "stream",
     "text": [
      "600\n",
      "300.0\n"
     ]
    }
   ],
   "source": [
    "x =int(input(\"\"))\n",
    "if x > 500:\n",
    "    a=x*50/100\n",
    "    print (a)\n",
    "elif x<=500 and x>=200:\n",
    "    a=x*70 /100\n",
    "    print (a)\n",
    "else :\n",
    "    a=x*90/100\n",
    "    print (a)\n",
    "    \n",
    "        "
   ]
  }
 ],
 "metadata": {
  "kernelspec": {
   "display_name": "Python 3",
   "language": "python",
   "name": "python3"
  },
  "language_info": {
   "codemirror_mode": {
    "name": "ipython",
    "version": 3
   },
   "file_extension": ".py",
   "mimetype": "text/x-python",
   "name": "python",
   "nbconvert_exporter": "python",
   "pygments_lexer": "ipython3",
   "version": "3.8.8"
  }
 },
 "nbformat": 4,
 "nbformat_minor": 5
}
